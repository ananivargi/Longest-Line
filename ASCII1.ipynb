{
 "cells": [
  {
   "attachments": {},
   "cell_type": "markdown",
   "metadata": {},
   "source": [
    "# ASCII- Based Game (v1)\n",
    "This notebook contains the code for the ASCII-based version of the game as part of Sprint 1. "
   ]
  },
  {
   "cell_type": "code",
   "execution_count": 9,
   "metadata": {},
   "outputs": [
    {
     "name": "stdout",
     "output_type": "stream",
     "text": [
      "This text is red in color\n"
     ]
    }
   ],
   "source": [
    "import colorama\n",
    "colorama.init()\n",
    "from colorama import Fore\n",
    "\n",
    "print(Fore.RED + 'This text is red in color')\n",
    "\n",
    "\n",
    "\n",
    "\n"
   ]
  },
  {
   "cell_type": "code",
   "execution_count": 30,
   "metadata": {},
   "outputs": [
    {
     "name": "stdout",
     "output_type": "stream",
     "text": [
      "+  +  +  +  +\n",
      "|  +  +  +  +\n",
      "+  +  +  +  +\n",
      "+  +  +  +  +\n",
      "+  +  +  +  +\n"
     ]
    }
   ],
   "source": [
    "# Define the size of the grid\n",
    "num_rows = 5\n",
    "num_cols = 5\n",
    "\n",
    "# Create a 2D list representing the grid\n",
    "grid = []\n",
    "for i in range(num_rows):\n",
    "    row = [\"+\"] * num_cols\n",
    "    grid.append(row)\n",
    "\n",
    "#for i in range(1, num_cols, 2):\n",
    "    #grid[0][i] = \"--\"\n",
    "grid[1][0] = \"|\"\n",
    "#Print the grid\n",
    "for row in grid:\n",
    "    print(\"  \".join(row))\n"
   ]
  }
 ],
 "metadata": {
  "kernelspec": {
   "display_name": "Python 3",
   "language": "python",
   "name": "python3"
  },
  "language_info": {
   "codemirror_mode": {
    "name": "ipython",
    "version": 3
   },
   "file_extension": ".py",
   "mimetype": "text/x-python",
   "name": "python",
   "nbconvert_exporter": "python",
   "pygments_lexer": "ipython3",
   "version": "3.10.11"
  },
  "orig_nbformat": 4
 },
 "nbformat": 4,
 "nbformat_minor": 2
}
