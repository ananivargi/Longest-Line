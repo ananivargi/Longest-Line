{
 "cells": [
  {
   "attachments": {},
   "cell_type": "markdown",
   "metadata": {},
   "source": [
    "# ASCII- Based Game (v1)\n",
    "This notebook contains the code for the ASCII-based version of the game as part of Sprint 1. "
   ]
  },
  {
   "cell_type": "code",
   "execution_count": 1,
   "metadata": {},
   "outputs": [
    {
     "name": "stdout",
     "output_type": "stream",
     "text": [
      "This text is red in color\n"
     ]
    }
   ],
   "source": [
    "#Code works in different IDE but not this\n",
    "import colorama\n",
    "colorama.init()\n",
    "from colorama import Fore\n",
    "\n",
    "print(Fore.RED + 'This text is red in color')\n",
    "\n",
    "\n",
    "\n",
    "\n"
   ]
  },
  {
   "cell_type": "code",
   "execution_count": 2,
   "metadata": {},
   "outputs": [
    {
     "ename": "TypeError",
     "evalue": "'float' object cannot be interpreted as an integer",
     "output_type": "error",
     "traceback": [
      "\u001b[1;31m---------------------------------------------------------------------------\u001b[0m",
      "\u001b[1;31mTypeError\u001b[0m                                 Traceback (most recent call last)",
      "Cell \u001b[1;32mIn[2], line 8\u001b[0m\n\u001b[0;32m      6\u001b[0m \u001b[39m# Create a 2D list representing the grid\u001b[39;00m\n\u001b[0;32m      7\u001b[0m grid \u001b[39m=\u001b[39m []\n\u001b[1;32m----> 8\u001b[0m \u001b[39mfor\u001b[39;00m i \u001b[39min\u001b[39;00m \u001b[39mrange\u001b[39;49m(num_rows):\n\u001b[0;32m      9\u001b[0m     row \u001b[39m=\u001b[39m [\u001b[39m\"\u001b[39m\u001b[39m+\u001b[39m\u001b[39m\"\u001b[39m] \u001b[39m*\u001b[39m num_cols\n\u001b[0;32m     10\u001b[0m     grid\u001b[39m.\u001b[39mappend(row)\n",
      "\u001b[1;31mTypeError\u001b[0m: 'float' object cannot be interpreted as an integer"
     ]
    }
   ],
   "source": [
    "#This cell contains graphics of grid\n",
    "# Define the size of the grid\n",
    "num_rows = 6.2\n",
    "num_cols = 12\n",
    "\n",
    "# Create a 2D list representing the grid\n",
    "grid = []\n",
    "for i in range(num_rows):\n",
    "    row = [\"+\"] * num_cols\n",
    "    grid.append(row)\n",
    "#Adding dashes to grid\n",
    "# for i in range(1, num_cols, 2):\n",
    "    #grid[0][i] = \"--\" \n",
    "    \n",
    "#Line in top left hand corner \n",
    "grid[1][0] = \"|\"\n",
    "#Print the grid\n",
    "for row in grid:\n",
    "    print(\"  \".join(row))\n"
   ]
  },
  {
   "cell_type": "code",
   "execution_count": 5,
   "metadata": {},
   "outputs": [
    {
     "ename": "TypeError",
     "evalue": "unsupported operand type(s) for -: 'str' and 'int'",
     "output_type": "error",
     "traceback": [
      "\u001b[1;31m---------------------------------------------------------------------------\u001b[0m",
      "\u001b[1;31mTypeError\u001b[0m                                 Traceback (most recent call last)",
      "Cell \u001b[1;32mIn[5], line 34\u001b[0m\n\u001b[0;32m     31\u001b[0m P2_lastMove \u001b[39m=\u001b[39m ()\n\u001b[0;32m     33\u001b[0m position \u001b[39m=\u001b[39m (\u001b[39minput\u001b[39m(\u001b[39m\"\u001b[39m\u001b[39mEnter Start and End position:\u001b[39m\u001b[39m\"\u001b[39m))\n\u001b[1;32m---> 34\u001b[0m checkPoints(position)\n\u001b[0;32m     35\u001b[0m \u001b[39mprint\u001b[39m (valid)\n\u001b[0;32m     36\u001b[0m \u001b[39mwhile\u001b[39;00m valid \u001b[39m!=\u001b[39m \u001b[39m1\u001b[39m:\n",
      "Cell \u001b[1;32mIn[5], line 22\u001b[0m, in \u001b[0;36mcheckPoints\u001b[1;34m(position)\u001b[0m\n\u001b[0;32m     20\u001b[0m             \u001b[39mprint\u001b[39m(item)\n\u001b[0;32m     21\u001b[0m             \u001b[39mbreak\u001b[39;00m\n\u001b[1;32m---> 22\u001b[0m \u001b[39mif\u001b[39;00m \u001b[39mabs\u001b[39m(\u001b[39mint\u001b[39m(position\u001b[39m.\u001b[39;49msplit()[\u001b[39m0\u001b[39;49m] \u001b[39m-\u001b[39;49m \u001b[39mint\u001b[39;49m(position\u001b[39m.\u001b[39;49msplit()[\u001b[39m1\u001b[39;49m]))) \u001b[39m==\u001b[39m \u001b[39m1\u001b[39m \u001b[39mor\u001b[39;00m \u001b[39mabs\u001b[39m(\u001b[39mint\u001b[39m(position\u001b[39m.\u001b[39msplit()[\u001b[39m0\u001b[39m:]) \u001b[39m-\u001b[39m \u001b[39mint\u001b[39m(position\u001b[39m.\u001b[39msplit()[\u001b[39m1\u001b[39m:])) \u001b[39m==\u001b[39m \u001b[39m5\u001b[39m:\n\u001b[0;32m     23\u001b[0m     valid \u001b[39m==\u001b[39m \u001b[39m1\u001b[39m\n\u001b[0;32m     24\u001b[0m     \u001b[39mreturn\u001b[39;00m valid\n",
      "\u001b[1;31mTypeError\u001b[0m: unsupported operand type(s) for -: 'str' and 'int'"
     ]
    }
   ],
   "source": [
    "#Initialising dictionary with possible points on grid\n",
    "possibleDots = {}\n",
    "for x in range(5):\n",
    "    for y in range(6):\n",
    "        possibleDots[(x, y)] = \"\"\n",
    "\n",
    "#Function to check validity of player input/move\n",
    "def checkPoints (position):\n",
    "    global valid\n",
    "    for item in (position.split()):\n",
    "        try: \n",
    "            int(item)\n",
    "        except ValueError:\n",
    "            break\n",
    "        else:\n",
    "            if not int(item) >= 1 and int(item) <= 25:\n",
    "                print (item)\n",
    "                break\n",
    "            if possibleDots[item] == 1:\n",
    "                print(item)\n",
    "                break\n",
    "    if abs(int(position.split()[0] - int(position.split()[1]))) == 1 or abs(int(position.split()[0:]) - int(position.split()[1:])) == 5:\n",
    "        valid == 1\n",
    "        return valid      \n",
    "                \n",
    "\n",
    "valid = 0\n",
    "P1_score = 0\n",
    "P2_score = 0\n",
    "P1_lastMove = ()\n",
    "P2_lastMove = ()\n",
    "\n",
    "position = (input(\"Enter Start and End position:\"))\n",
    "checkPoints(position)\n",
    "print (valid)\n",
    "while valid != 1:\n",
    "    print (\"Invalid Input. Try Again\")\n",
    "    position = (input(\"Enter Start and End position:\"))\n",
    "    checkPoints(position)\n",
    "print (\"Hello\")\n",
    "\n",
    "\n",
    "        "
   ]
  },
  {
   "cell_type": "code",
   "execution_count": null,
   "metadata": {},
   "outputs": [],
   "source": []
  }
 ],
 "metadata": {
  "kernelspec": {
   "display_name": "Python 3",
   "language": "python",
   "name": "python3"
  },
  "language_info": {
   "codemirror_mode": {
    "name": "ipython",
    "version": 3
   },
   "file_extension": ".py",
   "mimetype": "text/x-python",
   "name": "python",
   "nbconvert_exporter": "python",
   "pygments_lexer": "ipython3",
   "version": "3.10.11"
  },
  "orig_nbformat": 4
 },
 "nbformat": 4,
 "nbformat_minor": 2
}
