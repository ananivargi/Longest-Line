{
 "cells": [
  {
   "attachments": {},
   "cell_type": "markdown",
   "metadata": {},
   "source": [
    "# ASCII- Based Game (v1)\n",
    "This notebook contains the code for the ASCII-based version of the game as part of Sprint 1. "
   ]
  },
  {
   "cell_type": "code",
   "execution_count": null,
   "metadata": {},
   "outputs": [],
   "source": [
    "#Code works in different IDE but not this\n",
    "import colorama\n",
    "colorama.init()\n",
    "from colorama import Fore\n",
    "\n",
    "print(Fore.RED + 'This text is red in color')\n",
    "\n",
    "\n",
    "\n",
    "\n"
   ]
  },
  {
   "cell_type": "code",
   "execution_count": null,
   "metadata": {},
   "outputs": [],
   "source": [
    "#This cell contains graphics of grid\n",
    "# Define the size of the grid\n",
    "num_rows = 6.2\n",
    "num_cols = 12\n",
    "\n",
    "# Create a 2D list representing the grid\n",
    "grid = []\n",
    "for i in range(num_rows):\n",
    "    row = [\"+\"] * num_cols\n",
    "    grid.append(row)\n",
    "#Adding dashes to grid\n",
    "# for i in range(1, num_cols, 2):\n",
    "    #grid[0][i] = \"--\" \n",
    "    \n",
    "#Line in top left hand corner \n",
    "grid[1][0] = \"|\"\n",
    "#Print the grid\n",
    "for row in grid:\n",
    "    print(\"  \".join(row))\n"
   ]
  },
  {
   "cell_type": "code",
   "execution_count": 1,
   "metadata": {},
   "outputs": [],
   "source": [
    "#Initialising dictionary with possible points on grid\n",
    "possibleDots = {}\n",
    "for x in range(5):\n",
    "    for y in range(6):\n",
    "        possibleDots[(x, y)] = \"\"\n",
    "\n",
    "#Function to check validity of player input/move\n",
    "def checkPoints (start, end):\n",
    "    for item in ((start.split())):\n",
    "        print (item)\n",
    "    #if  start >= 0 and start <=5 and end >= 0 and start <=5:\n",
    "        #if not possibleDots[start] == \"Y\":\n",
    "            #if not possibleDots[end] == \"Y\":\n",
    "                #valid = 1\n",
    "#Initialising variables   \n",
    "valid = 0\n",
    "P1_score = 0\n",
    "P2_score = 0\n",
    "P1_lastMove = ()\n",
    "P2_lastMove = ()\n",
    "\n",
    "while valid != 1:\n",
    "    start = (input(\"Enter Start position (x, y)\"))\n",
    "    end = (input(\"Enter End position (x, y)\"))\n",
    "    checkPoints(start, end)\n",
    "    print (\"Invalid Input. Try Again\")\n",
    "  \n",
    "\n",
    "\n",
    "        "
   ]
  },
  {
   "cell_type": "code",
   "execution_count": null,
   "metadata": {},
   "outputs": [],
   "source": []
  }
 ],
 "metadata": {
  "kernelspec": {
   "display_name": "Python 3",
   "language": "python",
   "name": "python3"
  },
  "language_info": {
   "codemirror_mode": {
    "name": "ipython",
    "version": 3
   },
   "file_extension": ".py",
   "mimetype": "text/x-python",
   "name": "python",
   "nbconvert_exporter": "python",
   "pygments_lexer": "ipython3",
   "version": "3.10.11"
  },
  "orig_nbformat": 4
 },
 "nbformat": 4,
 "nbformat_minor": 2
}
