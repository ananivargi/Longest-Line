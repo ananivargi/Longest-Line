{
 "cells": [
  {
   "attachments": {},
   "cell_type": "markdown",
   "metadata": {},
   "source": [
    "# ASCII- Based Game (v1)\n",
    "This notebook contains the code for the ASCII-based version of the game as part of Sprint 1. "
   ]
  },
  {
   "cell_type": "code",
   "execution_count": 43,
   "metadata": {},
   "outputs": [
    {
     "name": "stdout",
     "output_type": "stream",
     "text": [
      "This text is red in color\n"
     ]
    }
   ],
   "source": [
    "#Code works in different IDE but not this\n",
    "import colorama\n",
    "colorama.init()\n",
    "from colorama import Fore\n",
    "\n",
    "print(Fore.RED + 'This text is red in color')\n",
    "\n",
    "\n",
    "\n",
    "\n"
   ]
  },
  {
   "cell_type": "code",
   "execution_count": null,
   "metadata": {},
   "outputs": [],
   "source": [
    "#Initialising dictionary with possible points on grid\n",
    "possibleLines = {}\n",
    "dotNum = 1\n",
    "\n",
    "for x in range(1, 6):\n",
    "    for y in range(1, 6):\n",
    "        # Horizontal line\n",
    "        if y < 5:\n",
    "            possibleLines[str((dotNum, dotNum + 1))] = 0\n",
    "        # Vertical line\n",
    "        if x < 5:\n",
    "            possibleLines[str((dotNum, dotNum + 5))] = 0\n",
    "        dotNum += 1\n",
    "print (possibleLines)\n",
    "\n",
    "#Function to check validity of player input/move\n",
    "def checkPoints (position):\n",
    "    global valid\n",
    "    for item in (position.split()):\n",
    "        try: \n",
    "            int(item)\n",
    "        except ValueError:\n",
    "            break\n",
    "        else:\n",
    "            if not int(item) >= 1 and int(item) <= 25:\n",
    "                print (item)\n",
    "                break\n",
    "    print (possibleLines[position])\n",
    "    if possibleLines[position] == int(1):\n",
    "        print(item)\n",
    "        \n",
    "    if abs(int(position[0] - int(position[1]))) == 1 or abs(int(position[0]) - int(position[1])) == 5:\n",
    "        valid = 1\n",
    "        return valid      \n",
    "                \n",
    "\n",
    "valid = 0\n",
    "P1_score = 0\n",
    "P2_score = 0\n",
    "P1_lastMove = ()\n",
    "P2_lastMove = ()\n",
    "\n",
    "position = (input(\"Enter Start and End position:\"))\n",
    "print (position.split())\n",
    "checkPoints(position)\n",
    "print (valid)\n",
    "while valid != 1:\n",
    "    print (\"Invalid Input. Try Again\")\n",
    "    position = (input(\"Enter Start and End position:\"))\n",
    "    checkPoints(position)\n",
    "print (\"Hello\")\n",
    "\n",
    "\n",
    "        "
   ]
  },
  {
   "cell_type": "code",
   "execution_count": 42,
   "metadata": {},
   "outputs": [
    {
     "name": "stdout",
     "output_type": "stream",
     "text": [
      "Line added successfully.\n"
     ]
    },
    {
     "ename": "TypeError",
     "evalue": "unsupported operand type(s) for &: 'list' and 'str'",
     "output_type": "error",
     "traceback": [
      "\u001b[1;31m---------------------------------------------------------------------------\u001b[0m",
      "\u001b[1;31mTypeError\u001b[0m                                 Traceback (most recent call last)",
      "Cell \u001b[1;32mIn[42], line 47\u001b[0m\n\u001b[0;32m     44\u001b[0m \u001b[39melse\u001b[39;00m:\n\u001b[0;32m     45\u001b[0m     \u001b[39mprint\u001b[39m(\u001b[39m\"\u001b[39m\u001b[39mFailed to add line.\u001b[39m\u001b[39m\"\u001b[39m)\n\u001b[1;32m---> 47\u001b[0m printGrid()\n",
      "Cell \u001b[1;32mIn[42], line 38\u001b[0m, in \u001b[0;36mprintGrid\u001b[1;34m()\u001b[0m\n\u001b[0;32m     36\u001b[0m \u001b[39mdef\u001b[39;00m \u001b[39mprintGrid\u001b[39m():\n\u001b[0;32m     37\u001b[0m     \u001b[39mfor\u001b[39;00m row \u001b[39min\u001b[39;00m grid:\n\u001b[1;32m---> 38\u001b[0m         \u001b[39mprint\u001b[39m(\u001b[39m\"\u001b[39m\u001b[39m \u001b[39m\u001b[39m\"\u001b[39m\u001b[39m.\u001b[39mjoin([\u001b[39m\"\u001b[39m\u001b[39mO\u001b[39m\u001b[39m\"\u001b[39m \u001b[39mfor\u001b[39;00m dot \u001b[39min\u001b[39;00m row \u001b[39m&\u001b[39;49m \u001b[39m\"\u001b[39;49m\u001b[39m-\u001b[39;49m\u001b[39m\"\u001b[39;49m \u001b[39mif\u001b[39;00m dot]))\n",
      "\u001b[1;31mTypeError\u001b[0m: unsupported operand type(s) for &: 'list' and 'str'"
     ]
    }
   ],
   "source": [
    "# Initialize the grid\n",
    "grid = [[0 for _ in range(5)] for _ in range(5)]\n",
    "\n",
    "# Function to check if a line is valid and update the grid\n",
    "def checkLine(position):\n",
    "    points = position.split(\",\")\n",
    "    start = int(points[0])\n",
    "    end = int(points[1])\n",
    "\n",
    "    # Check if the line is valid\n",
    "    if start < 1 or end < 1 or start > 25 or end > 25:\n",
    "        print(\"Invalid line. Dot numbers must be between 1 and 25.\")\n",
    "        return False\n",
    "\n",
    "    # Convert dot numbers to grid coordinates\n",
    "    start_x, start_y = (start - 1) // 5, (start - 1) % 5\n",
    "    end_x, end_y = (end - 1) // 5, (end - 1) % 5\n",
    "\n",
    "    # Check if the line connects adjacent dots\n",
    "    if abs(start_x - end_x) + abs(start_y - end_y) != 1:\n",
    "        print(\"Invalid line. Dots must be adjacent horizontally or vertically.\")\n",
    "        return False\n",
    "\n",
    "    # Check if the line is already connected\n",
    "    if grid[start_x][start_y] or grid[end_x][end_y]:\n",
    "        print(\"Invalid line. One or both dots are already connected.\")\n",
    "        return False\n",
    "\n",
    "    # Update the grid\n",
    "    grid[start_x][start_y] = 1\n",
    "    grid[end_x][end_y] = 1\n",
    "\n",
    "    return True\n",
    "\n",
    "# Function to print the grid\n",
    "def printGrid():\n",
    "    for row in grid:\n",
    "        print(\" \".join([\"-\" if dot else \"O\" for dot in row]))\n",
    "\n",
    "# Example usage\n",
    "line = input(\"Enter start and end positions (e.g., 2,3): \")\n",
    "if checkLine(line):\n",
    "    print(\"Line added successfully.\")\n",
    "else:\n",
    "    print(\"Failed to add line.\")\n",
    "\n",
    "printGrid()"
   ]
  }
 ],
 "metadata": {
  "kernelspec": {
   "display_name": "Python 3",
   "language": "python",
   "name": "python3"
  },
  "language_info": {
   "codemirror_mode": {
    "name": "ipython",
    "version": 3
   },
   "file_extension": ".py",
   "mimetype": "text/x-python",
   "name": "python",
   "nbconvert_exporter": "python",
   "pygments_lexer": "ipython3",
   "version": "3.10.11"
  },
  "orig_nbformat": 4
 },
 "nbformat": 4,
 "nbformat_minor": 2
}
